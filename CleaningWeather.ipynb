{
 "cells": [
  {
   "attachments": {},
   "cell_type": "markdown",
   "metadata": {},
   "source": [
    "this is for data cleaning and processing for project 1. \n",
    "1. load packages"
   ]
  },
  {
   "cell_type": "code",
   "execution_count": 12,
   "metadata": {},
   "outputs": [],
   "source": [
    "import pandas as pd\n",
    "import numpy as np"
   ]
  },
  {
   "cell_type": "code",
   "execution_count": 4,
   "metadata": {},
   "outputs": [],
   "source": [
    "maxTemp = pd.read_csv('data/resources/Monthly Highest Max Temp.csv')\n",
    "minTemp = pd.read_csv('data/resources/Monthly Lowest Min Temp.csv')\n",
    "avgTemp =  pd.read_csv('data/resources/Monthly Mean Avg Temp.csv')\n",
    "totPrecip =  pd.read_csv('data/resources/Monthly Total Precipitation.csv')\n"
   ]
  },
  {
   "cell_type": "code",
   "execution_count": 10,
   "metadata": {},
   "outputs": [
    {
     "data": {
      "text/plain": [
       "14"
      ]
     },
     "execution_count": 10,
     "metadata": {},
     "output_type": "execute_result"
    }
   ],
   "source": [
    "len(maxTemp.columns)"
   ]
  },
  {
   "cell_type": "code",
   "execution_count": 54,
   "metadata": {},
   "outputs": [
    {
     "name": "stdout",
     "output_type": "stream",
     "text": [
      "    A   B   C   D   E\n",
      "0  19  60  27  18  97\n",
      "1  14  76   M   T  91\n",
      "2  48  36  49  93  35\n",
      "3   M  21  32  59  18\n",
      "4   T  47  16  84  50\n",
      "(array([1, 3], dtype=int64), array([2, 0], dtype=int64))\n"
     ]
    },
    {
     "ename": "KeyError",
     "evalue": "\"None of [Int64Index([2, 0], dtype='int64')] are in the [columns]\"",
     "output_type": "error",
     "traceback": [
      "\u001b[1;31m---------------------------------------------------------------------------\u001b[0m",
      "\u001b[1;31mKeyError\u001b[0m                                  Traceback (most recent call last)",
      "Cell \u001b[1;32mIn[54], line 20\u001b[0m\n\u001b[0;32m     18\u001b[0m Ms \u001b[39m=\u001b[39m np\u001b[39m.\u001b[39mwhere(matrix \u001b[39m==\u001b[39m \u001b[39m'\u001b[39m\u001b[39mM\u001b[39m\u001b[39m'\u001b[39m)\n\u001b[0;32m     19\u001b[0m \u001b[39mprint\u001b[39m(Ms)\n\u001b[1;32m---> 20\u001b[0m matrix[[\u001b[39m2\u001b[39;49m,\u001b[39m0\u001b[39;49m]]\n\u001b[0;32m     21\u001b[0m matrix[\u001b[39m1\u001b[39m,\u001b[39m3\u001b[39m]\n",
      "File \u001b[1;32mc:\\Users\\jelde\\anaconda3\\envs\\test\\Lib\\site-packages\\pandas\\core\\frame.py:3813\u001b[0m, in \u001b[0;36mDataFrame.__getitem__\u001b[1;34m(self, key)\u001b[0m\n\u001b[0;32m   3811\u001b[0m     \u001b[39mif\u001b[39;00m is_iterator(key):\n\u001b[0;32m   3812\u001b[0m         key \u001b[39m=\u001b[39m \u001b[39mlist\u001b[39m(key)\n\u001b[1;32m-> 3813\u001b[0m     indexer \u001b[39m=\u001b[39m \u001b[39mself\u001b[39;49m\u001b[39m.\u001b[39;49mcolumns\u001b[39m.\u001b[39;49m_get_indexer_strict(key, \u001b[39m\"\u001b[39;49m\u001b[39mcolumns\u001b[39;49m\u001b[39m\"\u001b[39;49m)[\u001b[39m1\u001b[39m]\n\u001b[0;32m   3815\u001b[0m \u001b[39m# take() does not accept boolean indexers\u001b[39;00m\n\u001b[0;32m   3816\u001b[0m \u001b[39mif\u001b[39;00m \u001b[39mgetattr\u001b[39m(indexer, \u001b[39m\"\u001b[39m\u001b[39mdtype\u001b[39m\u001b[39m\"\u001b[39m, \u001b[39mNone\u001b[39;00m) \u001b[39m==\u001b[39m \u001b[39mbool\u001b[39m:\n",
      "File \u001b[1;32mc:\\Users\\jelde\\anaconda3\\envs\\test\\Lib\\site-packages\\pandas\\core\\indexes\\base.py:6070\u001b[0m, in \u001b[0;36mIndex._get_indexer_strict\u001b[1;34m(self, key, axis_name)\u001b[0m\n\u001b[0;32m   6067\u001b[0m \u001b[39melse\u001b[39;00m:\n\u001b[0;32m   6068\u001b[0m     keyarr, indexer, new_indexer \u001b[39m=\u001b[39m \u001b[39mself\u001b[39m\u001b[39m.\u001b[39m_reindex_non_unique(keyarr)\n\u001b[1;32m-> 6070\u001b[0m \u001b[39mself\u001b[39;49m\u001b[39m.\u001b[39;49m_raise_if_missing(keyarr, indexer, axis_name)\n\u001b[0;32m   6072\u001b[0m keyarr \u001b[39m=\u001b[39m \u001b[39mself\u001b[39m\u001b[39m.\u001b[39mtake(indexer)\n\u001b[0;32m   6073\u001b[0m \u001b[39mif\u001b[39;00m \u001b[39misinstance\u001b[39m(key, Index):\n\u001b[0;32m   6074\u001b[0m     \u001b[39m# GH 42790 - Preserve name from an Index\u001b[39;00m\n",
      "File \u001b[1;32mc:\\Users\\jelde\\anaconda3\\envs\\test\\Lib\\site-packages\\pandas\\core\\indexes\\base.py:6130\u001b[0m, in \u001b[0;36mIndex._raise_if_missing\u001b[1;34m(self, key, indexer, axis_name)\u001b[0m\n\u001b[0;32m   6128\u001b[0m     \u001b[39mif\u001b[39;00m use_interval_msg:\n\u001b[0;32m   6129\u001b[0m         key \u001b[39m=\u001b[39m \u001b[39mlist\u001b[39m(key)\n\u001b[1;32m-> 6130\u001b[0m     \u001b[39mraise\u001b[39;00m \u001b[39mKeyError\u001b[39;00m(\u001b[39mf\u001b[39m\u001b[39m\"\u001b[39m\u001b[39mNone of [\u001b[39m\u001b[39m{\u001b[39;00mkey\u001b[39m}\u001b[39;00m\u001b[39m] are in the [\u001b[39m\u001b[39m{\u001b[39;00maxis_name\u001b[39m}\u001b[39;00m\u001b[39m]\u001b[39m\u001b[39m\"\u001b[39m)\n\u001b[0;32m   6132\u001b[0m not_found \u001b[39m=\u001b[39m \u001b[39mlist\u001b[39m(ensure_index(key)[missing_mask\u001b[39m.\u001b[39mnonzero()[\u001b[39m0\u001b[39m]]\u001b[39m.\u001b[39munique())\n\u001b[0;32m   6133\u001b[0m \u001b[39mraise\u001b[39;00m \u001b[39mKeyError\u001b[39;00m(\u001b[39mf\u001b[39m\u001b[39m\"\u001b[39m\u001b[39m{\u001b[39;00mnot_found\u001b[39m}\u001b[39;00m\u001b[39m not in index\u001b[39m\u001b[39m\"\u001b[39m)\n",
      "\u001b[1;31mKeyError\u001b[0m: \"None of [Int64Index([2, 0], dtype='int64')] are in the [columns]\""
     ]
    }
   ],
   "source": [
    "# test data to seee if replacement works\n",
    "\n",
    "matrix = np.random.randint(low=1, high=100, size=(5, 5))\n",
    "matrix = pd.DataFrame(matrix, columns=list('ABCDE'))\n",
    " # print(matrix)\n",
    "\n",
    "# Ms \n",
    "matrix.loc[3,'A'] = \"M\"\n",
    "matrix.loc[1, 'C'] = \"M\"\n",
    "\n",
    "# Ts\n",
    "matrix.loc[1,'D'] = \"T\"\n",
    "matrix.loc[4, 'A'] = \"T\"\n",
    "\n",
    "print(matrix)\n",
    "\n",
    "\n",
    "Ms = np.where(matrix == 'M')\n",
    "print(Ms)\n",
    "matrix[[2,0]]\n",
    "matrix[1,3]\n",
    "\n",
    "\n",
    "## continue from here, need to figure out how to subset the data and find the locations of left,right,above,below. \n",
    "## \n",
    "\n"
   ]
  },
  {
   "cell_type": "code",
   "execution_count": null,
   "metadata": {},
   "outputs": [],
   "source": [
    "for year in len(maxTemp):\n",
    "    for month in len(maxTemp.columns):\n",
    "        if maxTemp==M:\n",
    "            left = month - 1 # locations around missing value\n",
    "            right = month + 1  # locations around missing value\n",
    "            above = year - 1   # locations around missing value\n",
    "            below = year + 1  # locations around missing value\n",
    "            avgRow =  [maxTemp[left,year] + maxTemp[right, year]]/2 # a mean \n",
    "            avgCol = [maxTemp[month,above] + maxTemp[month, below]]/2 # a mean\n",
    "            avgAvg = [avgRow+avgCol]/2 # the mena of means \n",
    "            maxTemp[month,year] = avgAvg # replcae missing value with the mean of means\n",
    "        elif maxTemp == T: # replace all Ts with 0s \n",
    "            maxTemp[month, year] = 0\n",
    "    \n",
    "       # replace T with 0\n",
    "       # else if maxtemp== M: replace with average of year[-1] and year[1]"
   ]
  }
 ],
 "metadata": {
  "kernelspec": {
   "display_name": "test",
   "language": "python",
   "name": "python3"
  },
  "language_info": {
   "codemirror_mode": {
    "name": "ipython",
    "version": 3
   },
   "file_extension": ".py",
   "mimetype": "text/x-python",
   "name": "python",
   "nbconvert_exporter": "python",
   "pygments_lexer": "ipython3",
   "version": "3.11.2"
  },
  "orig_nbformat": 4
 },
 "nbformat": 4,
 "nbformat_minor": 2
}

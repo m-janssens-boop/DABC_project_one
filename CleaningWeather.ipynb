{
 "cells": [
  {
   "attachments": {},
   "cell_type": "markdown",
   "metadata": {},
   "source": [
    "this is for data cleaning and processing for project 1. \n",
    "1. load packages\n",
    "2. load packages\n",
    "3. replace all T with 0\n",
    "4. replace all M with mean of means"
   ]
  },
  {
   "cell_type": "code",
   "execution_count": 41,
   "metadata": {},
   "outputs": [],
   "source": [
    "import pandas as pd\n",
    "import numpy as np"
   ]
  },
  {
   "cell_type": "code",
   "execution_count": 42,
   "metadata": {},
   "outputs": [],
   "source": [
    "maxTemp = pd.read_csv('data/resources/Monthly Highest Max Temp.csv')\n",
    "minTemp = pd.read_csv('data/resources/Monthly Lowest Min Temp.csv')\n",
    "avgTemp =  pd.read_csv('data/resources/Monthly Mean Avg Temp.csv')\n",
    "totPrecip =  pd.read_csv('data/resources/Monthly Total Precipitation.csv')\n"
   ]
  },
  {
   "cell_type": "code",
   "execution_count": 18,
   "metadata": {},
   "outputs": [
    {
     "name": "stdout",
     "output_type": "stream",
     "text": [
      "    A   B   C   D   E\n",
      "0  97  45  31  91  17\n",
      "1  18  72   M  24   T\n",
      "2  63  31  51  85   2\n",
      "3  58  84   7   M  74\n",
      "4  17   T  84  69  50\n",
      "    A    B    C    D    E\n",
      "0 NaN  NaN  NaN  NaN  NaN\n",
      "1 NaN  NaN    M  NaN  NaN\n",
      "2 NaN  NaN  NaN  NaN  NaN\n",
      "3 NaN  NaN  NaN    M  NaN\n",
      "4 NaN  NaN  NaN  NaN  NaN\n",
      "31\n",
      "24\n",
      "    A   B   C   D   E\n",
      "0  97  45  31  91  17\n",
      "1  18  72   M  24   0\n",
      "2  63  31  51  85   2\n",
      "3  58  84   7   M  74\n",
      "4  17   0  84  69  50\n"
     ]
    }
   ],
   "source": [
    "# TYEST data to seee if replacement works\n",
    "\n",
    "matrix = np.random.randint(low=1, high=100, size=(5, 5))\n",
    "matrix = pd.DataFrame(matrix, columns=list('ABCDE'))\n",
    " # print(matrix)\n",
    "\n",
    "# Ms \n",
    "matrix.iloc[3,3] = \"M\"\n",
    "matrix.iloc[1, 2] = \"M\"\n",
    "\n",
    "# Ts\n",
    "matrix.iloc[1,4] = \"T\"\n",
    "matrix.iloc[4, 1] = \"T\"\n",
    "\n",
    "print(matrix)\n",
    "\n",
    "\n",
    "print(matrix[matrix == 'M']) # this finds all locations of M, \n",
    "# print(Ms)\n",
    "print(matrix.iloc[2,1]) # \n",
    "print(matrix.iloc[1,3])\n",
    "\n",
    "\n",
    "### thise replaces all T with 0\n",
    "matrix = matrix.replace('T',0)\n",
    "print(matrix)\n",
    "\n"
   ]
  },
  {
   "cell_type": "code",
   "execution_count": 40,
   "metadata": {},
   "outputs": [
    {
     "name": "stdout",
     "output_type": "stream",
     "text": [
      "    A   B   C   D   E\n",
      "0  75  12  10  65  59\n",
      "1  16  71   M  83   T\n",
      "2  28  23  93  22  50\n",
      "3  55  13   7   M  49\n",
      "4  43   T  28  59  88\n"
     ]
    },
    {
     "ename": "KeyError",
     "evalue": "(1, 2)",
     "output_type": "error",
     "traceback": [
      "\u001b[1;31m---------------------------------------------------------------------------\u001b[0m",
      "\u001b[1;31mKeyError\u001b[0m                                  Traceback (most recent call last)",
      "File \u001b[1;32mc:\\Users\\jelde\\anaconda3\\envs\\test\\Lib\\site-packages\\pandas\\core\\indexes\\base.py:3802\u001b[0m, in \u001b[0;36mIndex.get_loc\u001b[1;34m(self, key, method, tolerance)\u001b[0m\n\u001b[0;32m   3801\u001b[0m \u001b[39mtry\u001b[39;00m:\n\u001b[1;32m-> 3802\u001b[0m     \u001b[39mreturn\u001b[39;00m \u001b[39mself\u001b[39;49m\u001b[39m.\u001b[39;49m_engine\u001b[39m.\u001b[39;49mget_loc(casted_key)\n\u001b[0;32m   3803\u001b[0m \u001b[39mexcept\u001b[39;00m \u001b[39mKeyError\u001b[39;00m \u001b[39mas\u001b[39;00m err:\n",
      "File \u001b[1;32mc:\\Users\\jelde\\anaconda3\\envs\\test\\Lib\\site-packages\\pandas\\_libs\\index.pyx:138\u001b[0m, in \u001b[0;36mpandas._libs.index.IndexEngine.get_loc\u001b[1;34m()\u001b[0m\n",
      "File \u001b[1;32mc:\\Users\\jelde\\anaconda3\\envs\\test\\Lib\\site-packages\\pandas\\_libs\\index.pyx:165\u001b[0m, in \u001b[0;36mpandas._libs.index.IndexEngine.get_loc\u001b[1;34m()\u001b[0m\n",
      "File \u001b[1;32mpandas\\_libs\\hashtable_class_helper.pxi:5745\u001b[0m, in \u001b[0;36mpandas._libs.hashtable.PyObjectHashTable.get_item\u001b[1;34m()\u001b[0m\n",
      "File \u001b[1;32mpandas\\_libs\\hashtable_class_helper.pxi:5753\u001b[0m, in \u001b[0;36mpandas._libs.hashtable.PyObjectHashTable.get_item\u001b[1;34m()\u001b[0m\n",
      "\u001b[1;31mKeyError\u001b[0m: (1, 2)",
      "\nThe above exception was the direct cause of the following exception:\n",
      "\u001b[1;31mKeyError\u001b[0m                                  Traceback (most recent call last)",
      "Cell \u001b[1;32mIn[40], line 21\u001b[0m\n\u001b[0;32m     15\u001b[0m \u001b[39mprint\u001b[39m(matrix) \n\u001b[0;32m     18\u001b[0m \u001b[39m### testing \u001b[39;00m\n\u001b[0;32m     19\u001b[0m \n\u001b[0;32m     20\u001b[0m \u001b[39m# Finding the index of 'T' in 'col1'\u001b[39;00m\n\u001b[1;32m---> 21\u001b[0m index \u001b[39m=\u001b[39m maxTemp\u001b[39m.\u001b[39miloc[maxTemp[\u001b[39m1\u001b[39;49m,\u001b[39m2\u001b[39;49m] \u001b[39m==\u001b[39m \u001b[39m'\u001b[39m\u001b[39mT\u001b[39m\u001b[39m'\u001b[39m]\u001b[39m.\u001b[39mindex[\u001b[39m0\u001b[39m]\n\u001b[0;32m     23\u001b[0m \u001b[39mprint\u001b[39m(index)\n",
      "File \u001b[1;32mc:\\Users\\jelde\\anaconda3\\envs\\test\\Lib\\site-packages\\pandas\\core\\frame.py:3807\u001b[0m, in \u001b[0;36mDataFrame.__getitem__\u001b[1;34m(self, key)\u001b[0m\n\u001b[0;32m   3805\u001b[0m \u001b[39mif\u001b[39;00m \u001b[39mself\u001b[39m\u001b[39m.\u001b[39mcolumns\u001b[39m.\u001b[39mnlevels \u001b[39m>\u001b[39m \u001b[39m1\u001b[39m:\n\u001b[0;32m   3806\u001b[0m     \u001b[39mreturn\u001b[39;00m \u001b[39mself\u001b[39m\u001b[39m.\u001b[39m_getitem_multilevel(key)\n\u001b[1;32m-> 3807\u001b[0m indexer \u001b[39m=\u001b[39m \u001b[39mself\u001b[39;49m\u001b[39m.\u001b[39;49mcolumns\u001b[39m.\u001b[39;49mget_loc(key)\n\u001b[0;32m   3808\u001b[0m \u001b[39mif\u001b[39;00m is_integer(indexer):\n\u001b[0;32m   3809\u001b[0m     indexer \u001b[39m=\u001b[39m [indexer]\n",
      "File \u001b[1;32mc:\\Users\\jelde\\anaconda3\\envs\\test\\Lib\\site-packages\\pandas\\core\\indexes\\base.py:3804\u001b[0m, in \u001b[0;36mIndex.get_loc\u001b[1;34m(self, key, method, tolerance)\u001b[0m\n\u001b[0;32m   3802\u001b[0m     \u001b[39mreturn\u001b[39;00m \u001b[39mself\u001b[39m\u001b[39m.\u001b[39m_engine\u001b[39m.\u001b[39mget_loc(casted_key)\n\u001b[0;32m   3803\u001b[0m \u001b[39mexcept\u001b[39;00m \u001b[39mKeyError\u001b[39;00m \u001b[39mas\u001b[39;00m err:\n\u001b[1;32m-> 3804\u001b[0m     \u001b[39mraise\u001b[39;00m \u001b[39mKeyError\u001b[39;00m(key) \u001b[39mfrom\u001b[39;00m \u001b[39merr\u001b[39;00m\n\u001b[0;32m   3805\u001b[0m \u001b[39mexcept\u001b[39;00m \u001b[39mTypeError\u001b[39;00m:\n\u001b[0;32m   3806\u001b[0m     \u001b[39m# If we have a listlike key, _check_indexing_error will raise\u001b[39;00m\n\u001b[0;32m   3807\u001b[0m     \u001b[39m#  InvalidIndexError. Otherwise we fall through and re-raise\u001b[39;00m\n\u001b[0;32m   3808\u001b[0m     \u001b[39m#  the TypeError.\u001b[39;00m\n\u001b[0;32m   3809\u001b[0m     \u001b[39mself\u001b[39m\u001b[39m.\u001b[39m_check_indexing_error(key)\n",
      "\u001b[1;31mKeyError\u001b[0m: (1, 2)"
     ]
    }
   ],
   "source": [
    "# TEST\n",
    " ### making test data frame\n",
    "matrix = np.random.randint(low=1, high=100, size=(5, 5))\n",
    "matrix = pd.DataFrame(matrix, columns=list('ABCDE'))\n",
    " # print(matrix)\n",
    "\n",
    "# Ms \n",
    "matrix.iloc[3,3] = \"M\"\n",
    "matrix.iloc[1, 2] = \"M\"\n",
    "\n",
    "# Ts\n",
    "matrix.iloc[1,4] = \"T\"\n",
    "matrix.iloc[4, 1] = \"T\"\n",
    "\n",
    "print(matrix) \n",
    "\n",
    "\n",
    "### testing \n",
    "\n",
    "# Finding the index of 'T' in 'col1'\n",
    "index = maxTemp.iloc[maxTemp[1,2] == 'T'].index[0]\n",
    "\n",
    "print(index)\n",
    "\n"
   ]
  },
  {
   "cell_type": "code",
   "execution_count": 64,
   "metadata": {},
   "outputs": [
    {
     "ename": "ValueError",
     "evalue": "invalid literal for int() with base 10: '0.00'",
     "output_type": "error",
     "traceback": [
      "\u001b[1;31m---------------------------------------------------------------------------\u001b[0m",
      "\u001b[1;31mValueError\u001b[0m                                Traceback (most recent call last)",
      "Cell \u001b[1;32mIn[64], line 8\u001b[0m\n\u001b[0;32m      6\u001b[0m above \u001b[39m=\u001b[39m totPrecip\u001b[39m.\u001b[39miloc[month, year \u001b[39m-\u001b[39m \u001b[39m1\u001b[39m]  \u001b[39m# locations around missing value\u001b[39;00m\n\u001b[0;32m      7\u001b[0m below \u001b[39m=\u001b[39m totPrecip\u001b[39m.\u001b[39miloc[month, year \u001b[39m+\u001b[39m \u001b[39m1\u001b[39m]   \u001b[39m# locations around missing value\u001b[39;00m\n\u001b[1;32m----> 8\u001b[0m avgRow \u001b[39m=\u001b[39m  \u001b[39mint\u001b[39;49m(left) \u001b[39m+\u001b[39m \u001b[39mint\u001b[39m(right)\u001b[39m/\u001b[39m\u001b[39m2\u001b[39m \u001b[39m# a mean \u001b[39;00m\n\u001b[0;32m      9\u001b[0m avgCol \u001b[39m=\u001b[39m \u001b[39mint\u001b[39m(above) \u001b[39m+\u001b[39m \u001b[39mint\u001b[39m(below)\u001b[39m/\u001b[39m\u001b[39m2\u001b[39m \u001b[39m# a mean\u001b[39;00m\n\u001b[0;32m     10\u001b[0m avgAvg \u001b[39m=\u001b[39m avgRow\u001b[39m+\u001b[39mavgCol\u001b[39m/\u001b[39m\u001b[39m2\u001b[39m \u001b[39m# the mena of means \u001b[39;00m\n",
      "\u001b[1;31mValueError\u001b[0m: invalid literal for int() with base 10: '0.00'"
     ]
    }
   ],
   "source": [
    "for year in range(1, len(totPrecip.index) - 1):\n",
    "    for month in range(len(totPrecip.columns)):\n",
    "       if totPrecip.iloc[:, month][year] == 'M':\n",
    "            left = totPrecip.iloc[month-1, year] # locations around missing value\n",
    "            right = totPrecip.iloc[month + 1, year]  # locations around missing value\n",
    "            above = totPrecip.iloc[month, year - 1]  # locations around missing value\n",
    "            below = totPrecip.iloc[month, year + 1]   # locations around missing value\n",
    "            avgRow =  int(left) + int(right)/2 # a mean \n",
    "            avgCol = int(above) + int(below)/2 # a mean\n",
    "            avgAvg = avgRow+avgCol/2 # the mena of means \n",
    "            totPrecip.iloc[month,year] = avgAvg # replcae missing value with the mean of means\n",
    "    \n",
    "       # replace T with 0\n",
    "       # else if maxtemp== M: replace with average of year[-1] and year[1]"
   ]
  },
  {
   "cell_type": "code",
   "execution_count": null,
   "metadata": {},
   "outputs": [],
   "source": [
    "for i in range(1, len(df.index) - 1):\n",
    "    for j in range(len(df.columns)):\n",
    "         if df == 'M'   \n",
    "            # get the value of the cell above\n",
    "            above_value = df.iloc[i-1, j]\n",
    "            # get the value of the cell below\n",
    "            below_value = df.iloc[i+1, j]\n",
    "            # calculate the average of the cell above and below\n",
    "            avg_value = (above_value + below_value) / 2\n",
    "            # replace the current cell with the calculated average\n",
    "            df.iloc[i, j] = avg_value\n"
   ]
  }
 ],
 "metadata": {
  "kernelspec": {
   "display_name": "test",
   "language": "python",
   "name": "python3"
  },
  "language_info": {
   "codemirror_mode": {
    "name": "ipython",
    "version": 3
   },
   "file_extension": ".py",
   "mimetype": "text/x-python",
   "name": "python",
   "nbconvert_exporter": "python",
   "pygments_lexer": "ipython3",
   "version": "3.11.2"
  },
  "orig_nbformat": 4
 },
 "nbformat": 4,
 "nbformat_minor": 2
}
